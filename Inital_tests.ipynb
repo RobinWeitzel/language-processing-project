{
 "cells": [
  {
   "cell_type": "code",
   "execution_count": 1,
   "metadata": {},
   "outputs": [],
   "source": [
    "import numpy as np\n",
    "import matplotlib.pyplot as plt\n",
    "import matplotlib\n",
    "%matplotlib inline"
   ]
  },
  {
   "cell_type": "code",
   "execution_count": 159,
   "metadata": {},
   "outputs": [
    {
     "data": {
      "text/plain": [
       "((50000, 8, 8, 1), (50000, 1, 4))"
      ]
     },
     "execution_count": 159,
     "metadata": {},
     "output_type": "execute_result"
    }
   ],
   "source": [
    "# Create images with random rectangles and bounding boxes. \n",
    "num_imgs = 50000\n",
    "\n",
    "img_size = 8\n",
    "min_object_size = 1\n",
    "max_object_size = 4\n",
    "num_objects = 1\n",
    "color_size = 1\n",
    "\n",
    "bboxes = np.zeros((num_imgs, num_objects, 4))\n",
    "imgs = np.zeros((num_imgs, img_size, img_size, color_size))  # set background to 0\n",
    "\n",
    "for i_img in range(num_imgs):\n",
    "    for i_object in range(num_objects):\n",
    "        w, h = np.random.randint(min_object_size, max_object_size, size=2)\n",
    "        x = np.random.randint(0, img_size - w)\n",
    "        y = np.random.randint(0, img_size - h)\n",
    "        imgs[i_img, x:x+w, y:y+h, 0] = 1.  # set rectangle to 1\n",
    "        bboxes[i_img, i_object] = [x, y, w, h]\n",
    "        \n",
    "imgs.shape, bboxes.shape"
   ]
  },
  {
   "cell_type": "code",
   "execution_count": 160,
   "metadata": {},
   "outputs": [
    {
     "data": {
      "image/png": "[encoded data removed]",
      "text/plain": [
       "<Figure size 432x288 with 1 Axes>"
      ]
     },
     "metadata": {
      "needs_background": "light"
     },
     "output_type": "display_data"
    }
   ],
   "source": [
    "i = 0\n",
    "plt.imshow(imgs[i].reshape(8, -1).T, cmap='Greys', interpolation='none', origin='lower', extent=[0, img_size, 0, img_size])\n",
    "for bbox in bboxes[i]:\n",
    "    plt.gca().add_patch(matplotlib.patches.Rectangle((bbox[0], bbox[1]), bbox[2], bbox[3], ec='r', fc='none'))"
   ]
  },
  {
   "cell_type": "code",
   "execution_count": 113,
   "metadata": {},
   "outputs": [
    {
     "data": {
      "text/plain": [
       "((50000, 8, 8, 1), 3.880451515669847e-17, 1.0)"
      ]
     },
     "execution_count": 113,
     "metadata": {},
     "output_type": "execute_result"
    }
   ],
   "source": [
    "# Reshape and normalize the image data to mean 0 and std 1. \n",
    "#X = (imgs.reshape(num_imgs, -1) - np.mean(imgs)) / np.std(imgs)\n",
    "X = (imgs - np.mean(imgs)) / np.std(imgs)\n",
    "X.shape, np.mean(X), np.std(X)"
   ]
  },
  {
   "cell_type": "code",
   "execution_count": 161,
   "metadata": {},
   "outputs": [
    {
     "data": {
      "text/plain": [
       "((50000, 4), 2.24976, 1.4011673498907973)"
      ]
     },
     "execution_count": 161,
     "metadata": {},
     "output_type": "execute_result"
    }
   ],
   "source": [
    "# Normalize x, y, w, h by img_size, so that all values are between 0 and 1.\n",
    "# Important: Do not shift to negative values (e.g. by setting to mean 0), because the IOU calculation needs positive w and h.\n",
    "y = bboxes.reshape(num_imgs, -1) / img_size\n",
    "y.shape, np.mean(y), np.std(y)"
   ]
  },
  {
   "cell_type": "code",
   "execution_count": 162,
   "metadata": {},
   "outputs": [],
   "source": [
    "# Split training and test.\n",
    "i = int(0.8 * num_imgs)\n",
    "train_X = X[:i]\n",
    "test_X = X[i:]\n",
    "train_y = y[:i]\n",
    "test_y = y[i:]\n",
    "test_imgs = imgs[i:]\n",
    "test_bboxes = bboxes[i:]"
   ]
  },
  {
   "cell_type": "code",
   "execution_count": 163,
   "metadata": {},
   "outputs": [],
   "source": [
    "import torch.nn as nn\n",
    "import torch\n",
    "\n",
    "class Net(nn.Module):\n",
    "    def __init__(self):\n",
    "        super(Net, self).__init__()\n",
    "        self.conv1 = nn.Conv2d(in_channels=1, out_channels=4, kernel_size=5)\n",
    "        self.conv2 = nn.Conv2d(in_channels=4, out_channels=8, kernel_size=3)\n",
    "        self.maxpool = nn.MaxPool2d(kernel_size=2, stride=1)\n",
    "        self.fc1 = nn.Linear(36, 200)\n",
    "        self.relu = nn.ReLU(inplace=True)\n",
    "        self.dropout = nn.Dropout(p=0.2)\n",
    "        self.fc2 = nn.Linear(200, y.shape[-1])\n",
    "    \n",
    "    def forward(self, x):\n",
    "        y = x.view(x.size(0), 1, 8, 8)\n",
    "        y = self.conv1(y)\n",
    "        #y = self.relu(y) \n",
    "        \n",
    "        # Second Convolutional Layer\n",
    "        #y = self.conv2(y)\n",
    "        y = self.maxpool(y)\n",
    "        y = self.relu(y)\n",
    "                        \n",
    "        # Flattening \n",
    "        y = y.view(y.size(0), -1)\n",
    "        \n",
    "        y = self.fc1(y)\n",
    "        y = self.relu(y)\n",
    "        y = self.dropout(y)\n",
    "        y = self.fc2(y)\n",
    "        \n",
    "        return y"
   ]
  },
  {
   "cell_type": "code",
   "execution_count": 164,
   "metadata": {},
   "outputs": [
    {
     "name": "stdout",
     "output_type": "stream",
     "text": [
      "Epoch 1/100\n",
      "Loss: 6.990885257720947\n",
      "Epoch 2/100\n",
      "Loss: 5.781137943267822\n",
      "Epoch 3/100\n",
      "Loss: 4.6541900634765625\n",
      "Epoch 4/100\n",
      "Loss: 3.5807013511657715\n",
      "Epoch 5/100\n",
      "Loss: 2.996645450592041\n",
      "Epoch 6/100\n",
      "Loss: 2.7590341567993164\n",
      "Epoch 7/100\n",
      "Loss: 2.564845561981201\n",
      "Epoch 8/100\n",
      "Loss: 2.40669846534729\n",
      "Epoch 9/100\n",
      "Loss: 2.2736308574676514\n",
      "Epoch 10/100\n",
      "Loss: 2.1794772148132324\n",
      "Epoch 11/100\n",
      "Loss: 2.1216959953308105\n",
      "Epoch 12/100\n",
      "Loss: 2.078296661376953\n",
      "Epoch 13/100\n",
      "Loss: 2.054555892944336\n",
      "Epoch 14/100\n",
      "Loss: 2.03230619430542\n",
      "Epoch 15/100\n",
      "Loss: 2.0225577354431152\n",
      "Epoch 16/100\n",
      "Loss: 2.0101425647735596\n",
      "Epoch 17/100\n",
      "Loss: 1.9997066259384155\n",
      "Epoch 18/100\n",
      "Loss: 1.9931418895721436\n",
      "Epoch 19/100\n",
      "Loss: 1.9912067651748657\n",
      "Epoch 20/100\n",
      "Loss: 1.9851099252700806\n",
      "Epoch 21/100\n",
      "Loss: 1.9821757078170776\n",
      "Epoch 22/100\n",
      "Loss: 1.9772411584854126\n",
      "Epoch 23/100\n",
      "Loss: 1.9758599996566772\n",
      "Epoch 24/100\n",
      "Loss: 1.969507098197937\n",
      "Epoch 25/100\n",
      "Loss: 1.9716682434082031\n",
      "Epoch 26/100\n",
      "Loss: 1.9683771133422852\n",
      "Epoch 27/100\n",
      "Loss: 1.9658931493759155\n",
      "Epoch 28/100\n",
      "Loss: 1.9665464162826538\n",
      "Epoch 29/100\n",
      "Loss: 1.964900255203247\n",
      "Epoch 30/100\n",
      "Loss: 1.966295838356018\n",
      "Epoch 31/100\n",
      "Loss: 1.9656190872192383\n",
      "Epoch 32/100\n",
      "Loss: 1.9717183113098145\n",
      "Epoch 33/100\n",
      "Loss: 1.9725944995880127\n",
      "Epoch 34/100\n",
      "Loss: 1.9852395057678223\n",
      "Epoch 35/100\n",
      "Loss: 1.9932082891464233\n",
      "Epoch 36/100\n",
      "Loss: 2.012019395828247\n",
      "Epoch 37/100\n",
      "Loss: 2.004303216934204\n",
      "Epoch 38/100\n",
      "Loss: 2.03251051902771\n",
      "Epoch 39/100\n",
      "Loss: 2.01212215423584\n",
      "Epoch 40/100\n",
      "Loss: 2.043520927429199\n",
      "Epoch 41/100\n",
      "Loss: 2.016097068786621\n",
      "Epoch 42/100\n",
      "Loss: 2.045423746109009\n",
      "Epoch 43/100\n",
      "Loss: 2.0126821994781494\n",
      "Epoch 44/100\n",
      "Loss: 2.037400245666504\n",
      "Epoch 45/100\n",
      "Loss: 2.0090718269348145\n",
      "Epoch 46/100\n",
      "Loss: 2.035877227783203\n",
      "Epoch 47/100\n",
      "Loss: 2.0053322315216064\n",
      "Epoch 48/100\n",
      "Loss: 2.02984356880188\n",
      "Epoch 49/100\n",
      "Loss: 2.002540349960327\n",
      "Epoch 50/100\n",
      "Loss: 2.025015354156494\n",
      "Epoch 51/100\n",
      "Loss: 2.000065326690674\n",
      "Epoch 52/100\n",
      "Loss: 2.021847724914551\n",
      "Epoch 53/100\n",
      "Loss: 1.9964563846588135\n",
      "Epoch 54/100\n",
      "Loss: 2.0175867080688477\n",
      "Epoch 55/100\n",
      "Loss: 1.997349739074707\n",
      "Epoch 56/100\n",
      "Loss: 2.015800714492798\n",
      "Epoch 57/100\n",
      "Loss: 1.994840383529663\n",
      "Epoch 58/100\n",
      "Loss: 2.0186657905578613\n",
      "Epoch 59/100\n",
      "Loss: 1.9962549209594727\n",
      "Epoch 60/100\n",
      "Loss: 2.01377534866333\n",
      "Epoch 61/100\n",
      "Loss: 1.9935696125030518\n",
      "Epoch 62/100\n",
      "Loss: 2.0141525268554688\n",
      "Epoch 63/100\n",
      "Loss: 1.9940375089645386\n",
      "Epoch 64/100\n",
      "Loss: 2.01175594329834\n",
      "Epoch 65/100\n",
      "Loss: 1.993138313293457\n",
      "Epoch 66/100\n",
      "Loss: 2.011136293411255\n",
      "Epoch 67/100\n",
      "Loss: 1.993029236793518\n",
      "Epoch 68/100\n",
      "Loss: 2.013228416442871\n",
      "Epoch 69/100\n",
      "Loss: 1.992106318473816\n",
      "Epoch 70/100\n",
      "Loss: 2.011820077896118\n",
      "Epoch 71/100\n",
      "Loss: 1.9910032749176025\n",
      "Epoch 72/100\n",
      "Loss: 2.012268304824829\n",
      "Epoch 73/100\n",
      "Loss: 1.9946376085281372\n",
      "Epoch 74/100\n",
      "Loss: 2.0137031078338623\n",
      "Epoch 75/100\n",
      "Loss: 1.9934509992599487\n",
      "Epoch 76/100\n",
      "Loss: 2.0117862224578857\n",
      "Epoch 77/100\n",
      "Loss: 1.99160897731781\n",
      "Epoch 78/100\n",
      "Loss: 2.013853073120117\n",
      "Epoch 79/100\n",
      "Loss: 1.9899077415466309\n",
      "Epoch 80/100\n",
      "Loss: 2.0116188526153564\n",
      "Epoch 81/100\n",
      "Loss: 1.995043158531189\n",
      "Epoch 82/100\n",
      "Loss: 2.012458324432373\n",
      "Epoch 83/100\n",
      "Loss: 1.993315577507019\n",
      "Epoch 84/100\n",
      "Loss: 2.0130093097686768\n",
      "Epoch 85/100\n",
      "Loss: 1.9909361600875854\n",
      "Epoch 86/100\n",
      "Loss: 2.014011859893799\n",
      "Epoch 87/100\n",
      "Loss: 1.9898079633712769\n",
      "Epoch 88/100\n",
      "Loss: 2.00994873046875\n",
      "Epoch 89/100\n",
      "Loss: 1.9899760484695435\n",
      "Epoch 90/100\n",
      "Loss: 2.0129165649414062\n",
      "Epoch 91/100\n",
      "Loss: 1.9896070957183838\n",
      "Epoch 92/100\n",
      "Loss: 2.012359142303467\n",
      "Epoch 93/100\n",
      "Loss: 1.9913471937179565\n",
      "Epoch 94/100\n",
      "Loss: 2.0120136737823486\n",
      "Epoch 95/100\n",
      "Loss: 1.9886432886123657\n",
      "Epoch 96/100\n",
      "Loss: 2.0105674266815186\n",
      "Epoch 97/100\n",
      "Loss: 1.9901132583618164\n",
      "Epoch 98/100\n",
      "Loss: 2.0136289596557617\n",
      "Epoch 99/100\n",
      "Loss: 1.9924280643463135\n",
      "Epoch 100/100\n",
      "Loss: 2.0126395225524902\n"
     ]
    }
   ],
   "source": [
    "epochs = 100\n",
    "\n",
    "model = Net()\n",
    "criterion = nn.MSELoss()\n",
    "#lr=1.0, rho=0.95, epsilon=None, decay=0.0\n",
    "optimizer = torch.optim.Adadelta(model.parameters(), lr=1.0, rho=0.95)\n",
    "\n",
    "for e in range(epochs):\n",
    "    print(\"Epoch\", str(e + 1) + '/' + str(epochs))\n",
    "    X_tensor = torch.from_numpy(train_X).float()\n",
    "    Y_tensor = torch.from_numpy(train_y).float()\n",
    "    optimizer.zero_grad()                             # Intialize the hidden weight to all zeros\n",
    "    outputs = model(X_tensor)                           # Forward pass: compute the output class given a review\n",
    "    loss = criterion(outputs, Y_tensor)               # Compute the loss: difference between the output class and the pre-given label\n",
    "    loss.backward()                                   # Backward pass: compute the weight\n",
    "    optimizer.step()                                  # Optimizer: update the weights of hidden nodes\n",
    "    print(\"Loss:\", loss.item())"
   ]
  },
  {
   "cell_type": "code",
   "execution_count": 165,
   "metadata": {},
   "outputs": [
    {
     "data": {
      "text/plain": [
       "torch.Size([10000, 1, 4])"
      ]
     },
     "execution_count": 165,
     "metadata": {},
     "output_type": "execute_result"
    }
   ],
   "source": [
    "# Predict bounding boxes on the test images.\n",
    "pred_y = model(torch.from_numpy(test_X).float())\n",
    "pred_bboxes = pred_y * img_size\n",
    "pred_bboxes = pred_bboxes.reshape(len(pred_bboxes), num_objects, -1)\n",
    "pred_bboxes.shape"
   ]
  },
  {
   "cell_type": "code",
   "execution_count": 166,
   "metadata": {},
   "outputs": [],
   "source": [
    "def IOU(bbox1, bbox2):\n",
    "    '''Calculate overlap between two bounding boxes [x, y, w, h] as the area of intersection over the area of unity'''\n",
    "    x1, y1, w1, h1 = bbox1[0], bbox1[1], bbox1[2], bbox1[3]\n",
    "    x2, y2, w2, h2 = bbox2[0], bbox2[1], bbox2[2], bbox2[3]\n",
    "\n",
    "    w_I = min(x1 + w1, x2 + w2) - max(x1, x2)\n",
    "    h_I = min(y1 + h1, y2 + h2) - max(y1, y2)\n",
    "    if w_I <= 0 or h_I <= 0:  # no overlap\n",
    "        return 0.\n",
    "    I = w_I * h_I\n",
    "\n",
    "    U = w1 * h1 + w2 * h2 - I\n",
    "\n",
    "    return I / U"
   ]
  },
  {
   "cell_type": "code",
   "execution_count": 167,
   "metadata": {},
   "outputs": [
    {
     "data": {
      "image/png": "[encoded data removed]",
      "text/plain": [
       "<Figure size 864x216 with 4 Axes>"
      ]
     },
     "metadata": {
      "needs_background": "light"
     },
     "output_type": "display_data"
    }
   ],
   "source": [
    "# Show a few images and predicted bounding boxes from the test dataset. \n",
    "plt.figure(figsize=(12, 3))\n",
    "for i_subplot in range(1, 5):\n",
    "    plt.subplot(1, 4, i_subplot)\n",
    "    i = np.random.randint(len(test_imgs))\n",
    "    plt.imshow(test_imgs[i].reshape(8, -1).T, cmap='Greys', interpolation='none', origin='lower', extent=[0, img_size, 0, img_size])\n",
    "    for pred_bbox, exp_bbox in zip(pred_bboxes[i], test_bboxes[i]):\n",
    "        plt.gca().add_patch(matplotlib.patches.Rectangle((pred_bbox[0], pred_bbox[1]), pred_bbox[2], pred_bbox[3], ec='r', fc='none'))\n",
    "        plt.annotate('IOU: {:.2f}'.format(IOU(pred_bbox, exp_bbox)), (pred_bbox[0], pred_bbox[1]+pred_bbox[3]+0.2), color='r')\n",
    "        \n",
    "# plt.savefig('plots/bw-single-rectangle_prediction.png', dpi=300)"
   ]
  },
  {
   "cell_type": "code",
   "execution_count": 168,
   "metadata": {},
   "outputs": [
    {
     "data": {
      "text/plain": [
       "0.0"
      ]
     },
     "execution_count": 168,
     "metadata": {},
     "output_type": "execute_result"
    }
   ],
   "source": [
    "# Calculate the mean IOU (overlap) between the predicted and expected bounding boxes on the test dataset. \n",
    "summed_IOU = 0.\n",
    "for pred_bbox, test_bbox in zip(pred_bboxes.reshape(-1, 4), test_bboxes.reshape(-1, 4)):\n",
    "    summed_IOU += IOU(pred_bbox, test_bbox)\n",
    "mean_IOU = summed_IOU / len(pred_bboxes)\n",
    "mean_IOU"
   ]
  },
  {
   "cell_type": "code",
   "execution_count": null,
   "metadata": {},
   "outputs": [],
   "source": []
  },
  {
   "cell_type": "code",
   "execution_count": null,
   "metadata": {},
   "outputs": [],
   "source": []
  },
  {
   "cell_type": "code",
   "execution_count": null,
   "metadata": {},
   "outputs": [],
   "source": []
  }
 ],
 "metadata": {
  "kernelspec": {
   "display_name": "Python 3",
   "language": "python",
   "name": "python3"
  },
  "language_info": {
   "codemirror_mode": {
    "name": "ipython",
    "version": 3
   },
   "file_extension": ".py",
   "mimetype": "text/x-python",
   "name": "python",
   "nbconvert_exporter": "python",
   "pygments_lexer": "ipython3",
   "version": "3.7.1"
  }
 },
 "nbformat": 4,
 "nbformat_minor": 2
}
