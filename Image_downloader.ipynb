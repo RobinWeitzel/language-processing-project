{
 "cells": [
  {
   "cell_type": "code",
   "execution_count": 13,
   "metadata": {},
   "outputs": [],
   "source": [
    "import pandas as pd\n",
    "\n",
    "tweets = pd.read_json('../Datasets/tweets.json')"
   ]
  },
  {
   "cell_type": "code",
   "execution_count": 14,
   "metadata": {},
   "outputs": [
    {
     "name": "stdout",
     "output_type": "stream",
     "text": [
      "Downloading images\n"
     ]
    },
    {
     "data": {
      "application/vnd.jupyter.widget-view+json": {
       "model_id": "aeb39b68c998476bb0f85150767b4e82",
       "version_major": 2,
       "version_minor": 0
      },
      "text/plain": [
       "HBox(children=(IntProgress(value=0, max=60803), HTML(value='')))"
      ]
     },
     "metadata": {},
     "output_type": "display_data"
    },
    {
     "name": "stdout",
     "output_type": "stream",
     "text": [
      "\n"
     ]
    }
   ],
   "source": [
    "import urllib.request\n",
    "import os\n",
    "from tqdm import tqdm_notebook as tqdm\n",
    "from PIL import Image, ImageOps\n",
    "\n",
    "def downloadImages(df, path):\n",
    "    # Create folder if it does not yet exist\n",
    "    if not os.path.isdir(path):\n",
    "        os.mkdir(path)\n",
    "                \n",
    "    counter = 0\n",
    "    \n",
    "    t = tqdm(df.iterrows(), total=len(df))\n",
    "    \n",
    "    for i, row in t:\n",
    "        img_url = row['url']\n",
    "        name = img_url.split('/')[len(img_url.split('/')) - 1]\n",
    "        full_path = path + \"/\" + name\n",
    "        if not os.path.exists(full_path):\n",
    "            # Download the image if it does not yet exist\n",
    "            try:\n",
    "                urllib.request.urlretrieve(img_url, full_path)\n",
    "                image = Image.open(full_path)\n",
    "                thumb = ImageOps.fit(image, (227, 227), Image.ANTIALIAS)\n",
    "                thumb.save(full_path)\n",
    "                counter += 1\n",
    "                \n",
    "                t.set_description(str(counter) + \"/\" + str(i) + \" successfully downloaded\")\n",
    "            except:\n",
    "                continue\n",
    "        \n",
    "        # Overwrite the URL with the name of the image if the image exists\n",
    "        if os.path.exists(full_path):\n",
    "            tweets.at[i, 'url'] = full_path\n",
    "        \n",
    "print(\"Downloading images\")\n",
    "downloadImages(tweets, \"../Datasets/images\")"
   ]
  },
  {
   "cell_type": "code",
   "execution_count": 24,
   "metadata": {},
   "outputs": [],
   "source": [
    "tweets = tweets[tweets['url'].str.startswith('..')]"
   ]
  },
  {
   "cell_type": "code",
   "execution_count": 25,
   "metadata": {
    "scrolled": true
   },
   "outputs": [],
   "source": [
    "tweets.to_json('../Datasets/tweets.json')"
   ]
  },
  {
   "cell_type": "code",
   "execution_count": null,
   "metadata": {},
   "outputs": [],
   "source": [
    "thumb = ImageOps.fit(image, (227, 227), Image.ANTIALIAS)\n",
    "thumb"
   ]
  },
  {
   "cell_type": "code",
   "execution_count": null,
   "metadata": {},
   "outputs": [],
   "source": [
    "thumb.save(path)"
   ]
  },
  {
   "cell_type": "code",
   "execution_count": null,
   "metadata": {},
   "outputs": [],
   "source": []
  }
 ],
 "metadata": {
  "kernelspec": {
   "display_name": "Python 3",
   "language": "python",
   "name": "python3"
  },
  "language_info": {
   "codemirror_mode": {
    "name": "ipython",
    "version": 3
   },
   "file_extension": ".py",
   "mimetype": "text/x-python",
   "name": "python",
   "nbconvert_exporter": "python",
   "pygments_lexer": "ipython3",
   "version": "3.7.1"
  }
 },
 "nbformat": 4,
 "nbformat_minor": 2
}
